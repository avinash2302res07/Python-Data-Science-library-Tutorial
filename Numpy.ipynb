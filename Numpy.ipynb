{
  "nbformat": 4,
  "nbformat_minor": 0,
  "metadata": {
    "colab": {
      "provenance": [],
      "authorship_tag": "ABX9TyOaC9bhZzsSeJAHIkc/8RIw",
      "include_colab_link": true
    },
    "kernelspec": {
      "name": "python3",
      "display_name": "Python 3"
    },
    "language_info": {
      "name": "python"
    }
  },
  "cells": [
    {
      "cell_type": "markdown",
      "metadata": {
        "id": "view-in-github",
        "colab_type": "text"
      },
      "source": [
        "<a href=\"https://colab.research.google.com/github/avinash2302res07/Python-Data-Science-library-Tutorial/blob/main/Numpy.ipynb\" target=\"_parent\"><img src=\"https://colab.research.google.com/assets/colab-badge.svg\" alt=\"Open In Colab\"/></a>"
      ]
    },
    {
      "cell_type": "markdown",
      "source": [
        "Numpy\n",
        "* Num -> Numerical + py -> Python\n",
        "\n",
        "NumPy, which stands for ‘Numerical Python’, is a python library meant for scientific calculations."
      ],
      "metadata": {
        "id": "8GI4ac_hyc7U"
      }
    },
    {
      "cell_type": "markdown",
      "source": [
        "**Data Structure of Numpy:**\n",
        "\n",
        "Like Python or  Pandas, Numpy also has its own data structure \"array\"\n",
        "\n",
        "\n"
      ],
      "metadata": {
        "id": "BunHxWf7zE-K"
      }
    },
    {
      "cell_type": "markdown",
      "source": [
        "##Numpy Array :\n",
        "\n",
        "A NumPy array is a collection of values stored together, similar to a list."
      ],
      "metadata": {
        "id": "nD0CXsb81j0U"
      }
    },
    {
      "cell_type": "markdown",
      "source": [
        "**List Vs Numpy :**\n"
      ],
      "metadata": {
        "id": "sMn1l6re0rxz"
      }
    },
    {
      "cell_type": "markdown",
      "source": [
        "###Creating Numpy Array"
      ],
      "metadata": {
        "id": "QC_TpGT63Aub"
      }
    }
  ]
}