{
  "nbformat": 4,
  "nbformat_minor": 0,
  "metadata": {
    "colab": {
      "provenance": [],
      "authorship_tag": "ABX9TyO+gqgJ6yMzE8GJzyyZoAx7",
      "include_colab_link": true
    },
    "kernelspec": {
      "name": "python3",
      "display_name": "Python 3"
    },
    "language_info": {
      "name": "python"
    }
  },
  "cells": [
    {
      "cell_type": "markdown",
      "metadata": {
        "id": "view-in-github",
        "colab_type": "text"
      },
      "source": [
        "<a href=\"https://colab.research.google.com/github/avinash2302res07/Python-Data-Science-library-Tutorial/blob/main/Numpy.ipynb\" target=\"_parent\"><img src=\"https://colab.research.google.com/assets/colab-badge.svg\" alt=\"Open In Colab\"/></a>"
      ]
    },
    {
      "cell_type": "markdown",
      "source": [
        "Numpy\n",
        "* Num -> Numerical + py -> Python\n",
        "\n",
        "NumPy, which stands for ‘Numerical Python’, is a python library meant for scientific calculations."
      ],
      "metadata": {
        "id": "8GI4ac_hyc7U"
      }
    },
    {
      "cell_type": "markdown",
      "source": [
        "##Getting Started With Pandas :\n",
        "\n",
        "After the Numpy have been installed in the system, we need to import the library Like Pandas. This module is generally imported as follows:\n",
        "\n",
        "\n",
        "```\n",
        "# import pandas as pd\n",
        "```\n",
        "\n"
      ],
      "metadata": {
        "id": "ZcUgkHyTiJNX"
      }
    },
    {
      "cell_type": "markdown",
      "source": [
        "##Data Structure of Numpy:\n",
        "\n",
        "Like Python or  Pandas, Numpy also has its own data structure \"array\"\n",
        "\n",
        "\n"
      ],
      "metadata": {
        "id": "BunHxWf7zE-K"
      }
    },
    {
      "cell_type": "markdown",
      "source": [
        "Numpy Array :\n",
        "\n",
        "**A NumPy array is a collection of values stored together, similar to a list.**\n",
        "\n",
        "* Numpy Arrays are grid-like structures similar to lists in Python but optimized for numerical operations."
      ],
      "metadata": {
        "id": "nD0CXsb81j0U"
      }
    },
    {
      "cell_type": "markdown",
      "source": [
        "**List Vs Numpy :**\n"
      ],
      "metadata": {
        "id": "sMn1l6re0rxz"
      }
    },
    {
      "cell_type": "markdown",
      "source": [
        "###Creating Numpy Array :\n",
        "\n",
        "The most straightforward way to create a NumPy array is by converting a regular Python list into an array using the\n",
        "\n",
        "\n",
        "\n",
        "```\n",
        "# np.array()\n",
        "```\n",
        "\n",
        " function."
      ],
      "metadata": {
        "id": "QC_TpGT63Aub"
      }
    },
    {
      "cell_type": "code",
      "source": [],
      "metadata": {
        "id": "pO4MIlNDn8s7"
      },
      "execution_count": null,
      "outputs": []
    }
  ]
}