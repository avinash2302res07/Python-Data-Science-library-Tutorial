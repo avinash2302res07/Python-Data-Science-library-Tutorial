{
  "nbformat": 4,
  "nbformat_minor": 0,
  "metadata": {
    "colab": {
      "provenance": [],
      "authorship_tag": "ABX9TyPLyv0ArRWXlI2y9W8HSwLr",
      "include_colab_link": true
    },
    "kernelspec": {
      "name": "python3",
      "display_name": "Python 3"
    },
    "language_info": {
      "name": "python"
    }
  },
  "cells": [
    {
      "cell_type": "markdown",
      "metadata": {
        "id": "view-in-github",
        "colab_type": "text"
      },
      "source": [
        "<a href=\"https://colab.research.google.com/github/avinash2302res07/Python-Data-Science-library-Tutorial/blob/main/Python.ipynb\" target=\"_parent\"><img src=\"https://colab.research.google.com/assets/colab-badge.svg\" alt=\"Open In Colab\"/></a>"
      ]
    },
    {
      "cell_type": "code",
      "execution_count": null,
      "metadata": {
        "id": "AgIEBQA1SuTd"
      },
      "outputs": [],
      "source": []
    },
    {
      "cell_type": "markdown",
      "source": [],
      "metadata": {
        "id": "D0e0zXxiNwPv"
      }
    },
    {
      "cell_type": "markdown",
      "source": [
        "### List\n",
        "*  Lists can store different types of items/objects/variables, including other lists\n",
        "* List can contain duplicate items.\n",
        "* List in Python are Mutable. Hence, we can modify, replace or delete the items.\n",
        "* List are ordered. It maintain the order of elements based on how they are added.\n",
        "* Accessing items in List can be done directly using their position (index), starting from 0.**bold text**"
      ],
      "metadata": {
        "id": "7PcGYW0mNxg7"
      }
    },
    {
      "cell_type": "markdown",
      "source": [
        "###Creating List In Python\n",
        "\n",
        "* Using Square Brackets\n"
      ],
      "metadata": {
        "id": "klwFt_nJrR7W"
      }
    },
    {
      "cell_type": "code",
      "source": [
        "# List of integers\n",
        "a = [1, 2, 3, 4, 5]\n",
        "\n",
        "# List of strings\n",
        "b = ['apple', 'banana', 'cherry']\n",
        "\n",
        "# Mixed data types\n",
        "c = [1, 'hello', 3.14, True]\n",
        "\n",
        "print(a)\n",
        "print(b)\n",
        "print(c)"
      ],
      "metadata": {
        "colab": {
          "base_uri": "https://localhost:8080/"
        },
        "id": "6lFqyOeZBsRZ",
        "outputId": "96b21d29-b8d7-46df-c44a-10592279d91d"
      },
      "execution_count": 1,
      "outputs": [
        {
          "output_type": "stream",
          "name": "stdout",
          "text": [
            "[1, 2, 3, 4, 5]\n",
            "['apple', 'banana', 'cherry']\n",
            "[1, 'hello', 3.14, True]\n"
          ]
        }
      ]
    },
    {
      "cell_type": "markdown",
      "source": [
        "* Using list() Constructor\n",
        "\n",
        "We can also create a list by passing an iterable (like a string, tuple or another list) to list() function.\n"
      ],
      "metadata": {
        "id": "GHI1nFTuB80j"
      }
    },
    {
      "cell_type": "code",
      "source": [
        "# From a tuple\n",
        "a = list((1, 2, 3, 'apple', 4.5))\n",
        "\n",
        "print(a)"
      ],
      "metadata": {
        "colab": {
          "base_uri": "https://localhost:8080/"
        },
        "id": "jVJUg1ZxB-x2",
        "outputId": "24e78108-deb5-4e03-f0df-bb445a7965cf"
      },
      "execution_count": 2,
      "outputs": [
        {
          "output_type": "stream",
          "name": "stdout",
          "text": [
            "[1, 2, 3, 'apple', 4.5]\n"
          ]
        }
      ]
    },
    {
      "cell_type": "markdown",
      "source": [
        "* Creating List with Repeated Elements\n",
        "\n",
        "We can create a list with repeated elements using the multiplication operator."
      ],
      "metadata": {
        "id": "89uP2uy2CSGu"
      }
    },
    {
      "cell_type": "code",
      "source": [
        "# Create a list [2, 2, 2, 2, 2]\n",
        "a = [2] * 5\n",
        "\n",
        "# Create a list [0, 0, 0, 0, 0, 0, 0]\n",
        "b = [0] * 7\n",
        "\n",
        "print(a)\n",
        "print(b)"
      ],
      "metadata": {
        "colab": {
          "base_uri": "https://localhost:8080/"
        },
        "id": "Vi0LfE1HCUdl",
        "outputId": "3391c5d8-63cf-48b8-9bb8-42c8e88b14c1"
      },
      "execution_count": 3,
      "outputs": [
        {
          "output_type": "stream",
          "name": "stdout",
          "text": [
            "[2, 2, 2, 2, 2]\n",
            "[0, 0, 0, 0, 0, 0, 0]\n"
          ]
        }
      ]
    },
    {
      "cell_type": "markdown",
      "source": [
        "###Accesing List Element\n",
        "\n",
        "Elements in a list can be accessed using indexing. Python indexes start at 0, so a[0] will access the first element, while negative indexing allows us to access elements from the end of the list. Like index -1 represents the last elements of list."
      ],
      "metadata": {
        "id": "xVbbWE3FkJLr"
      }
    },
    {
      "cell_type": "code",
      "source": [
        "a = [10, 20, 30, 40, 50]\n",
        "\n",
        "#Acces first element\n",
        "print(a[0])\n",
        "\n",
        "#Acess last element\n",
        "print(a[-1])"
      ],
      "metadata": {
        "colab": {
          "base_uri": "https://localhost:8080/"
        },
        "id": "MjWQKDAxlTZ3",
        "outputId": "f7d745e0-4b47-4db2-d7ab-58d3ad6de795"
      },
      "execution_count": 2,
      "outputs": [
        {
          "output_type": "stream",
          "name": "stdout",
          "text": [
            "10\n",
            "50\n"
          ]
        }
      ]
    },
    {
      "cell_type": "markdown",
      "source": [
        "### Python List Slicing\n",
        "\n",
        "Python list slicing is fundamental concept that let us easily access specific elements in a list"
      ],
      "metadata": {
        "id": "FPKWB-inmy8M"
      }
    },
    {
      "cell_type": "markdown",
      "source": [
        " #Example: Get the items from a list starting at position 1 and ending at position 4 (exclusive)."
      ],
      "metadata": {
        "id": "4sLIMsXOsh5W"
      }
    },
    {
      "cell_type": "code",
      "source": [
        "a = [1, 2, 3, 4, 5, 6, 7, 8, 9]\n",
        "\n",
        "# Get elements from index 1 to 4 (excluded)\n",
        "print(a[1:4])"
      ],
      "metadata": {
        "colab": {
          "base_uri": "https://localhost:8080/"
        },
        "id": "tM-CVgqAsqMq",
        "outputId": "edb18e91-3294-4363-a37d-f12e217994a3"
      },
      "execution_count": 3,
      "outputs": [
        {
          "output_type": "stream",
          "name": "stdout",
          "text": [
            "[2, 3, 4]\n"
          ]
        }
      ]
    },
    {
      "cell_type": "markdown",
      "source": [
        "###Tuple"
      ],
      "metadata": {
        "id": "FkYPIH1Jo-Z8"
      }
    },
    {
      "cell_type": "markdown",
      "source": [
        "#### Acessing Of Tuples\n",
        "\n",
        "We can access the elements of a tuple by using indexing and slicing, similar to how we access elements in a list. Indexing starts at 0 for the first element and goes up to n-1, where n is the number of elements in the tuple. Negative indexing starts from -1 for the last element and goes backward."
      ],
      "metadata": {
        "id": "_kaus-nXqkd6"
      }
    },
    {
      "cell_type": "code",
      "source": [
        "# Accessing Tuple with Indexing\n",
        "tup = tuple(\"Geeks\")\n",
        "print(tup[0])"
      ],
      "metadata": {
        "id": "W2WvV-tmr2qW"
      },
      "execution_count": null,
      "outputs": []
    },
    {
      "cell_type": "markdown",
      "source": [
        "###Set"
      ],
      "metadata": {
        "id": "nwFHwuIDpB3d"
      }
    },
    {
      "cell_type": "markdown",
      "source": [
        "#### Accessing a Set in Python\n",
        "We can loop through a set to access set items as set is unindexed and do not support accessing elements by indexing. Also we can use in keyword which is membership operator to check if an item exists in a set."
      ],
      "metadata": {
        "id": "jEca5vRZrHRC"
      }
    },
    {
      "cell_type": "markdown",
      "source": [
        "###Dictionary"
      ],
      "metadata": {
        "id": "14YBinEXpFrA"
      }
    }
  ]
}